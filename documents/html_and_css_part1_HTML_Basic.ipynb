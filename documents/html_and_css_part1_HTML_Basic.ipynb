{
  "nbformat": 4,
  "nbformat_minor": 0,
  "metadata": {
    "colab": {
      "provenance": [],
      "collapsed_sections": [
        "nNOLIXY49znD"
      ],
      "authorship_tag": "ABX9TyOc6rK7pX1WeT+7IK+yguU2",
      "include_colab_link": true
    },
    "kernelspec": {
      "name": "python3",
      "display_name": "Python 3"
    },
    "language_info": {
      "name": "python"
    }
  },
  "cells": [
    {
      "cell_type": "markdown",
      "metadata": {
        "id": "view-in-github",
        "colab_type": "text"
      },
      "source": [
        "<a href=\"https://colab.research.google.com/github/khalidNC/html_css_project_p1/blob/main/html_and_css_part1_HTML_Basic.ipynb\" target=\"_parent\"><img src=\"https://colab.research.google.com/assets/colab-badge.svg\" alt=\"Open In Colab\"/></a>"
      ]
    },
    {
      "cell_type": "markdown",
      "source": [
        "#<font color=\"red\">**HTML5 and CSS3 Part1:**</font>"
      ],
      "metadata": {
        "id": "uNiT8kzy86S9"
      }
    },
    {
      "cell_type": "markdown",
      "source": [
        "##<font color=\"green\">**HTML Basic:**</font>\n",
        "---\n",
        "\n"
      ],
      "metadata": {
        "id": "NQQRXhZ59SP-"
      }
    },
    {
      "cell_type": "markdown",
      "source": [
        "###<font color=\"blue\">***Introduction:***</font>\n",
        "---"
      ],
      "metadata": {
        "id": "nNOLIXY49znD"
      }
    },
    {
      "cell_type": "markdown",
      "source": [
        "This document covers essential html elements to know to buid a web page.\n",
        "\n",
        "*   Text\n",
        "*   Links\n",
        "*   Images\n",
        "*   Lists and Tables\n",
        "*   Container elements\n",
        "*   Structural elements or semantic elements\n",
        "\n"
      ],
      "metadata": {
        "id": "ellQX1_2-K0T"
      }
    },
    {
      "cell_type": "markdown",
      "source": [
        "###<font color=\"blue\">***The Head Section:***</font>\n",
        "---"
      ],
      "metadata": {
        "id": "rocvmhfTEkF6"
      }
    },
    {
      "cell_type": "markdown",
      "source": [
        "We use head section to give browser and search engines information about the webpage. Let's explore it more detail.\n",
        "\n",
        "  *  ***Basic HTML Boilerplate:*** Open index.html file in VScdoe. Initialy it is empty. Just type ! and hit enter it will create a basic html boilerplate, means a basic html template as below.\n",
        "  ```html\n",
        "    <!DOCTYPE html>\n",
        "    <html lang=\"en\">\n",
        "    <head>\n",
        "      <meta charset=\"UTF-8\">\n",
        "      <meta name=\"viewport\" content=\"width=device-width, initial-scale=1.0\">\n",
        "      <title>Document</title>\n",
        "    </head>\n",
        "    <body>\n",
        "      \n",
        "    </body>\n",
        "    </html>\n",
        "  ```\n",
        "\n",
        "    * !DOCTYPE html, is the doctype declaration.\n",
        "    * html lang=\"en\", is the html element with lang attribute set to English.\n",
        "    * head section with a couple of elements\n",
        "    * body section\n",
        "\n",
        "  This is very basic of a html boilerplate."
      ],
      "metadata": {
        "id": "LT-TBHrKE7NC"
      }
    },
    {
      "cell_type": "markdown",
      "source": [
        "* ***head section:*** Head section have a couple of meta elements for giving information about the webpage.\n",
        "\n",
        "    *  **Meta charset=\"UTF-8\":** The first meta element, is to define the character set.\n",
        "        * ***Character set***:  Computers do not understand characters like ABC, they only understand numbers which are represent binary numbers zero and one. So using character set to map character to numeric value. There are a couple character sets like;\n",
        "          1.   The first character set was designed as ASCII. It represents only English language.\n",
        "          2.   Character set most of time used is UTF-8 which represents almost all characters in the world.\n",
        "    \n",
        "    *  **Meta viewport:** The second meta element to display the webpage in all devices properly.\n",
        "\n",
        "        * ***Viewport:*** Meta element to configuring the viewport. Viewport mean the visible area of the webpage. This meta has 2 attributes name and content. name is set to \"viewport\". and the content is set to \"width=divice-width, initial-scale=1.0\", which is zoom factor. With this element our webpage looks good to all devices.\n",
        "        ```html\n",
        "          <head>\n",
        "            <meta charset=\"UTF-8\">\n",
        "            <meta name=\"viewport\" content=\"width=device-width, initial-scale=1.0\">\n",
        "            <title>Document</title>\n",
        "          </head>\n",
        "        ```\n",
        "    *  **Other Meta:** Type meta and it popup the the meta suggestions for you. Lets say we select meta: kw (keyword).\n",
        "    ![picture](https://drive.google.com/uc?id=1er5bAQSeieLia8SqBI2mfcQNEJM-DrY7)\n",
        "\n",
        "      * ***Meta keywords:*** This meta is used for setting keywords for the purpose of makeing a good structure of html. In past, it is being heavly used for search engine optimization. Now most of the search engines stopped taking this info for ranking but still keywords is part of a html document.\n",
        "      \n",
        "        ![picture](https://drive.google.com/uc?id=1Lei9lWTmG-viULQowI_5sIOh7y6EnBPr)\n",
        "\n",
        "      * ***Meta description:*** Another meta is to define description of the webpage. So if you type meta:desc and hit enter, the vscode generates code for you. Then set the content value \".........\". These content shows on the search result when someone search our website in search engine.\n",
        "      ```html\n",
        "      <meta name=\"description\" content=\"About Apple About Apple ... \">\n",
        "      ```\n",
        "      ![picture](https://drive.google.com/uc?id=1wFJ9qHdZ754D4704vdrHG6f1mmv_Znes)\n",
        "\n",
        "\n",
        "\n",
        "\n",
        "\n"
      ],
      "metadata": {
        "id": "vRmd5KuZZEwt"
      }
    },
    {
      "cell_type": "markdown",
      "source": [
        "###<font color=\"blue\">***The Text Elements:***</font>\n",
        "---"
      ],
      "metadata": {
        "id": "3Jqw0WGWZMGt"
      }
    },
    {
      "cell_type": "markdown",
      "source": [
        "The most common element is text element. We already know about <p> or paragraph element, which we use to display some text. Now let's discover some features:\n",
        "\n",
        "1. <em tag, Emphasize some parts of a text:\n",
        "```\n",
        "<body>\n",
        "  <P>Love to write html codes also the CSS.</P>\n",
        "</body>\n",
        "```\n",
        "Let's say we want to emphasize html word so keep html word inside <em> or emphasize tag.\n",
        "```\n",
        "<body>\n",
        "  <P>Love to write <em>html</em> codes also the CSS.</P>\n",
        "</body>\n",
        "```\n",
        "And we se the emphasize text by as 'italic'. But we should not use <em> element for make the text italic. Because <em> tags purpose is to emphasize content in html and this helps search engine extract important content in html. Anything for styling need to use css. For example for <em> element we can set rule in css that overide the default <em> tag settings. For example, inside head section we add style tag. and inside em tag we set new em style as below;\n",
        "```\n",
        "<head>\n",
        "      <meta charset=\"UTF-8\">\n",
        "      <meta name=\"viewport\" content=\"width=device-width, initial-scale=1.0\">\n",
        "      <meta name=\"keywords\" content=\"HTML, CSS\">\n",
        "      <meta name=\"description\" content=\"Best HTML document\">\n",
        "      <title>HTML Document</title>\n",
        "      <style>\n",
        "        em {\n",
        "          color: red;\n",
        "          font-style: normal;\n",
        "        }\n",
        "      </style>\n",
        "    </head>\n",
        "```\n",
        "with this change 'html' highlighted as red color with normal font. But in htm document it is still inside em tag, which helps search engine to extaract the word 'html'.\n",
        "\n",
        "2. <strong tag, usage of this strong tag similar as em tag. By default it shows the text bold. But once again for styling the blod must use css.\n",
        "```\n",
        "<body>\n",
        "      <P>Love to write <em>html</em> codes also the CSS.</P>\n",
        "      <p>We are here to learn <strong>CSS</strong>.</p>\n",
        "</body>\n",
        "```\n",
        "\n"
      ],
      "metadata": {
        "id": "x69e7YCo6nQy"
      }
    }
  ]
}