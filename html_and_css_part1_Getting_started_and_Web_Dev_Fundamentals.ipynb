{
  "nbformat": 4,
  "nbformat_minor": 0,
  "metadata": {
    "colab": {
      "provenance": [],
      "collapsed_sections": [
        "tCHZb-jDC1mo"
      ],
      "authorship_tag": "ABX9TyNMy0gN+8/RaZTSprEA9GbF",
      "include_colab_link": true
    },
    "kernelspec": {
      "name": "python3",
      "display_name": "Python 3"
    },
    "language_info": {
      "name": "python"
    }
  },
  "cells": [
    {
      "cell_type": "markdown",
      "metadata": {
        "id": "view-in-github",
        "colab_type": "text"
      },
      "source": [
        "<a href=\"https://colab.research.google.com/github/khalidNC/html_css_project_p1/blob/main/html_and_css_part1_Getting_started_and_Web_Dev_Fundamentals.ipynb\" target=\"_parent\"><img src=\"https://colab.research.google.com/assets/colab-badge.svg\" alt=\"Open In Colab\"/></a>"
      ]
    },
    {
      "cell_type": "markdown",
      "source": [
        "# **<font color=\"red\">HTML5 and CSS3 Part1:</font>**"
      ],
      "metadata": {
        "id": "_9hugL9WADTz"
      }
    },
    {
      "cell_type": "markdown",
      "source": [
        "## **<font color=\"green\">Getting Started:</font>**\n",
        "\n",
        "---\n",
        "\n"
      ],
      "metadata": {
        "id": "tCHZb-jDC1mo"
      }
    },
    {
      "cell_type": "markdown",
      "source": [
        "### ***Introduction:***\n",
        "Welcome to the first part of the HTML and CSS fundamentals. In th9is part we will cover the fundamentals of web development with html and css. In the second part we will explore advance concepts of html and css and in the third part we will put everything together and build a responsive, fast and beautiful website."
      ],
      "metadata": {
        "id": "qYiCObnyDUVf"
      }
    },
    {
      "cell_type": "markdown",
      "source": [
        "### ***Who this document is for:***\n",
        "Both beginners and experienced person can be benefited with this document."
      ],
      "metadata": {
        "id": "1u43hg-LDAVT"
      }
    },
    {
      "cell_type": "markdown",
      "source": [
        "### ***Tools we need:***\n",
        "The tools we need for getting started:\n",
        "1. Code editor like vscode, sublime text, atom etc and we use vscode.\n",
        "2. Download few extensions in vscode:\n",
        "  *   Prettier: with this extension we can format our code and make pretty.\n",
        "  *   Live Server: With this we can lunch website inside a development server.\n",
        "3. A browser to view and test our website. In this case, we use google chrome.\n",
        "\n"
      ],
      "metadata": {
        "id": "q69cJtxUEsRu"
      }
    },
    {
      "cell_type": "markdown",
      "source": [
        "## **<font color=\"green\">Web Development Fundamentals:</font>**\n",
        "---"
      ],
      "metadata": {
        "id": "sBVNm-rzJoVp"
      }
    },
    {
      "cell_type": "markdown",
      "source": [
        "### ***Introduction:***"
      ],
      "metadata": {
        "id": "RRy4CKvEpOP9"
      }
    },
    {
      "cell_type": "markdown",
      "source": [
        "We will learn:\n",
        "1. The languages and tools of we development.\n",
        "2. Key concepts(e.g URL, HTTP, DOM, etc).\n",
        "3. How a website works: Like what happens when we visit a website in a browser.\n",
        "4. Inspect network traffic using DevTools.\n",
        "5. Basic of HTML and CSS.\n",
        "6. Validating wepages\n"
      ],
      "metadata": {
        "id": "EGHjwba_J88i"
      }
    },
    {
      "cell_type": "markdown",
      "source": [
        "### ***Languages and tools of we development:***"
      ],
      "metadata": {
        "id": "l4cOVKx7pG7i"
      }
    },
    {
      "cell_type": "markdown",
      "source": [
        "This is the first step: to become a we developer. Let's draw a roadmap to know where you are and where you should go next. Every website has 2 parts, front-end and back-end.\n",
        "\n",
        "Frontend is the part that you see in your browser and interact with all the visual.\n",
        "[link text](https://)\n",
        "Backend is the part that powers the frontend, it is behind the scenes. And it is aminly about storing data in databses and providing it to the frontend.\n",
        "\n",
        "So web development job falls into three main categories, front-end development, back-end development, full-stack development.\n",
        "\n",
        "Front-end development needs:\n",
        "1. **HTML:** Hypertext Markup Language is used to difine the building blocks of a webpage.\n",
        "2. **CSS:** Cascading Style Sheet is used for styling webpages and making them beautiful.\n",
        "3. **JavaScript:** is used for adding functionality to webpages.\n",
        "\n",
        "Let's take an example, think of a building in the real world. Like a webpage in the internet it has a skeleton or structure. It can have walls, windows, tiles, and it can have some certain functionalities for example, when you press button of the lift it comes up.\n",
        "\n",
        "Let's take a real example now, Twitter app for each tweet we want to have a layout like this:\n",
        "![picture](https://drive.google.com/uc?id=1otUAN7sThhoQ9IwJe4tkxe_WiHEhTkKt)\n",
        "\n",
        "So we use HTML to define all the building blocks of this layout. The building blocks are here, an image some text indicating the user's twitter handle, another block of text containing the message, and three icons for commenting, retweeting, and liking the tweet.\n",
        "\n",
        "We use HTML to add these building blocks to our webpage. Then we use CSS to give visual effect. For example, with CSS we can make the font bold, we can make our image round, we can add padding, we can change the color of the icons, we can also create animation with CSS and so on.\n",
        "\n",
        "The most webpages in this day are interactive. They response to our actions like clicks, scrools etc. This is where JavaScript comes in. With JS we can add functionality or behavior to our webpages, for example we can like a tweet.\n",
        "\n",
        "So JavaScript is a programming languages while HTML, CSS are not meaning we can not use them to tell computers what to do. We use them to define buidling blocks of webpage and for styling them.\n",
        "\n",
        "Front-end framework:\n",
        "Building websites often include a bunch of repetitive tasks. This is where front-end frameworks or libraries come in. A framework or library comes with a lot of code that we can resue in our wesites. So they help us to get the job done faster. That's why lot of companies this day use one of these populr frameworks like, React, Angular, Vue. Technically React is not a framework, it's a library. But all these tools serve the same purpose. They help us to build application faster. Now to start we do not need to learn all of these, React is enough to get started."
      ],
      "metadata": {
        "id": "DZawZWp2L5te"
      }
    },
    {
      "cell_type": "markdown",
      "source": [
        "### ***How a website works:***"
      ],
      "metadata": {
        "id": "fSOptNSjoxwg"
      }
    },
    {
      "cell_type": "markdown",
      "source": [
        "Let's find out what exactly happens when someone hit a web address in the browser. Let's say we open a browser and headover to the New York Times website: http://www.nytimes.com the web address is called URL, which is Uniform Resource Locator.\n",
        "\n",
        "Basically it is a way to locate a resource on the internet. Resources can be webpages, aslo called html documents, they can be images, video files and so on.\n",
        "\n",
        "So what happes when we hit the URL in the browser address bar? Well, there are 2 things involved here:\n",
        "> 1. Browser, also called client\n",
        "> 2. the computer or computers that host our teget website called web server\n",
        "\n",
        "And this is what we called client server model. The client requests service and the server provides the service. So our browser send a message to the server and says, hey give the the homepage of this website. This kine of how you are sending a text message to your friend, think of your phone is clinet sending the message and your friend's phone as the server receiving the message. Now back to our example.\n",
        "\n",
        "The message is formatted based on a protocol called, HTTP or Hypertext Transfer Protocol. HTTP is a language the clients and servers use to talk to each other. It is not a programing language, it is just plain textual language for communicating over the internet. We also have HTTPS which is HTTP with encryption, so the messages exchanged between the server and the client are encrypted.\n",
        "\n",
        "Here is a simplified example of HTTP message:\n",
        "```\n",
        "      GET /index.html HTTP/1.1\n",
        "      HOST: www.nytimes.com\n",
        "      Accept-Language: en-us\n",
        "```\n",
        "With this message the browser tells the server what it is looking for. So in the first line it says it wants to get a page or a file called index.html using HTTP version 1.1 the index.html often represents a homepage of websites.\n",
        "\n",
        "In the second line, we can see the host, that is nytimes.com\n",
        "\n",
        "And in the line, we can see the language that the client can accept, in this case it is English.\n",
        "\n",
        "This is the message based on the HTTP protocol that client and server understand.\n",
        "\n",
        "So the server receive the message, it figures out what the client is asking and then it will send a message back to the client.\n",
        "\n",
        "The first message is called HTTP request and the second message is called HTTP response. Every data exchange using the HTTP protocol involves two messages, a request and a response.\n",
        "\n",
        "Now what is in the response? Here is a simplified example of HTTP response:\n",
        "```\n",
        "HTTP/1.1 200 OK\n",
        "Date: 1 Jan 2024 09:30\n",
        "Content-Type: text/html\n",
        "\n",
        "<!DOCTYPE html>\n",
        "<html>\n",
        "....\n",
        "</html>\n",
        "```\n",
        "In the first line we see, the version of the HTTP protocol is used, folowed by a number which is a status code. 200 means successfull or ok. In second line we see date and time of the response. Next we can see type of the content the server is sending back to the client(browser) this ths case text/html. After that we can see the html codes or the html document that represents the homepage of the New York times website. The browser reads the html document, it constructs what we called DOM or Document Object Model. Tghis is a modle that represents the objects or elements of in html document. What are these elements? All the building blocks of the webpage like, paragraph of text, images, links and so on.\n",
        "\n",
        "Now as the browser is reading this html document that is returned form the server, it discovers references to other resources in this document like, images, fonts and other stuff. Each of these resources has an address or URL. So for each resource browser sends a separate http request to the server to fetch the resource. Many of the http requests are sent in parallel so that we can see the page as quickly as possible. When the browser has all the necessery resources, it renders the html document. Rendering the html document displaying it.\n",
        "\n",
        "So in the nutshell, the browser sends an http request and receives an http response. This http response contains a http document. Then browser reads the http document and constructs to a Document Object Model and render the page.\n",
        "\n",
        "\n",
        "\n",
        "\n",
        "\n",
        "\n"
      ],
      "metadata": {
        "id": "PkEksifp2ZjR"
      }
    },
    {
      "cell_type": "markdown",
      "source": [
        "### ***Inspecting htpp request and response:***"
      ],
      "metadata": {
        "id": "AthZilf_ol3n"
      }
    },
    {
      "cell_type": "markdown",
      "source": [
        "**1. Open the dev tool:**\n",
        "\n",
        "        a. Open the chrome browser and head over to googl.com\n",
        "        b. Navigate to View option on the top bar.\n",
        "        c. Then go to Developer option then click to the Developer tools option.\n",
        "        d. It will open the Dev Tools window.\n",
        "\n",
        "**2. Options/features on dev tool:**\n",
        "\n",
        "        a. We can see different type of tabs like, Elements, Console, Sources, Network.\n",
        "        b. Here we will navigate to the Network tab so that we can inspect the network traffic to and from google.com.\n",
        "        c. Now reload google and we can see some items in the Name column on the Network tab. These are the http requests sent from the browser to google.com\n",
        "        d. At the bottom left corner we can see the total numbers of the requests. In this case these are 49 requests.\n",
        "        e. Next we can see total amount of data transfered over the network. In this case, it is 94 kilobites.\n",
        "\n",
        "**3. Usages:**\n",
        "\n",
        "        a. Now take a look at the first item in the name column. This is the first http request that chrome sent to the google.com\n",
        "        b. As you can see with this request browser wants to get a document(since the Type column show Document) and the status code is 200, means ok.\n",
        "        c. In Size column, we can see the amount of data transfered for this perticular request.\n",
        "        d. And the time it took to get the response in the Time column.\n",
        "\n",
        "**4. Detail of the request:**\n",
        "\n",
        "        a. Now click on the first request and it open more detail option with Headers, Preview, Response, Initiator, Timing, Cookies.\n",
        "            i. Headers: We can see all the headers of our request and response.\n",
        "                      1. Request URL: https://www.google.com\n",
        "                      2. Request Method: GET\n",
        "                      3. Status Code: 200\n",
        "                      4. Remote Address: numerical presentation of google.com\n",
        "            ii. Response Headers: There are lots of headers, amonge them one is;\n",
        "                      1. Content Type: text/html; charset=UTF-8\n",
        "                      2. Date and time of the response\n",
        "\n",
        "            iii. Preview: In the Preview tab we see the preview of the of html document that is returned from the server.\n",
        "            \n",
        "        b. This html document we have references to other resources, images, fonts and so on. So in the Name column all other requests are sent to get those resources. There are lots of requests so we can search them by filtering.\n",
        "            i. Filter: Click on the filter icon, a blue funnel at the top left.\n",
        "            ii. Filtering options: By default we see all requests. We can click the expected on adn can see it below. Like we click on the Doc filter and it show me the request type document only."
      ],
      "metadata": {
        "id": "cm-85sxfZqA8"
      }
    },
    {
      "cell_type": "markdown",
      "source": [
        "### ***HTML Basic:***"
      ],
      "metadata": {
        "id": "oLYAd9zFqhm-"
      }
    },
    {
      "cell_type": "markdown",
      "source": [
        "1. Create New folder: Go to anywhere ij your computer and created create a new folder. And name it anything, like HTML\n",
        "2. Thne the folder in VScode.\n",
        "3. This directory is empty, let's add a file here and call it index.html\n",
        "4. The index.html is often refferes the homepage of a website.\n",
        "5. Now the first thing is to tell the browser that, it is the html document.\n",
        "    - First type left angle bracket\n",
        "    - Then there will a suggest list appears\n",
        "    - The first one is doctype or document type\n",
        "    - Let's hit enter or tab button in keyboard and vscode generate the belos code for us.\n",
        "    ```\n",
        "    <!DOCTYPE html>\n",
        "    ```\n",
        "    - So with this line of code we can tell browser this is a html document.\n",
        "    - This line of code called doctype diclaration.\n",
        "6. Useage of element: We are going to use html element.\n",
        "7. So type html and hit enter/tab then will create a block for us like:\n",
        "    ```\n",
        "    <html></html>\n",
        "    ```\n",
        "8. Now inside this element we will other elements like head, body like below\n",
        "    ```\n",
        "    <html>\n",
        "      <head></head>\n",
        "      <body>\n",
        "        \n",
        "      </body>\n",
        "    </html>\n",
        "    ```\n",
        "    - We use the head element to give browser information about the page.\n",
        "    - For example, we can use 'title' element to specify the the title of the page.\n",
        "        ```\n",
        "        <html>\n",
        "          <head>\n",
        "            <title>My first web page</title>\n",
        "          </head>\n",
        "          <body>\n",
        "            \n",
        "          </body>\n",
        "        </html>\n",
        "        ```\n",
        "9. Open in a live server. Make a right click somewhere in the codes and click on the open with live server option. It will open in browser. But this is an empty page.\n",
        "\n",
        "10. The url of the page is like: http://127.0.0.1:5500/index.html\n",
        "    - The 127.0.0.1 represents the local computer.\n",
        "    - and 5500 is the port number on which our web server is listening.\n",
        "    - Our web server is waiting for HTPP request on this port.\n",
        "    - and this /index.html is name of our file.\n",
        "\n",
        "11. Now back to the VScode and add elements inside the body which is going to show on our web page. Let's we want to show here a tweet. So what elements should show here an image, and some text elements.\n",
        "    - image: to add image tag type img and hit enter/tab it will create the code for us.\n",
        "    ```\n",
        "      <img src=\"\" alt=\"\">\n",
        "    ```\n",
        "    - The image element does not have the closing tag. Because the image element can not have any child element.\n",
        "    - There are 2 attributes: src, which is 'source' and alt, altranative text.\n",
        "    - With these attributes we can supply additional information about the image element.\n",
        "\n",
        "12. The src attribute is used to specify the path of the image.\n",
        "    - Let's say we create a new folder in root directory and named it images.\n",
        "    - then put an image there in the file.\n",
        "    - And inside the double src write the file name 'images/img_file_name.jpg' it is auto suggested by vscode.\n",
        "    ```\n",
        "    <body>\n",
        "      <img src=\"images/nameera.jpeg\" alt=\"\">\n",
        "    </body>\n",
        "    ```\n",
        "13. The alt attribute we use to give browser some text to display incase the image can not be displayed. For the time being we remove this attribute for this demo.\n",
        "\n",
        "14. Now add some text element inside the body. Type p and hit enter a element block code will be created, then inside the block write the text like and the codes look like;\n",
        "    ```\n",
        "    <!DOCTYPE html>\n",
        "    <html>\n",
        "      <head>\n",
        "        <title>My first webpage</title>\n",
        "      </head>\n",
        "      <body>\n",
        "        <img src=\"images/nameera.jpeg\" >\n",
        "        <p>@khalid</p>\n",
        "        <p>Evening sun in West</p>\n",
        "      </body>\n",
        "    </html>\n",
        "    ```\n",
        "15. Still this does not look like tweet yet. Because we did not apply CSS yet. As we know, we use HTML to define the structure, the building blocks of the web page and CSS is used for styling."
      ],
      "metadata": {
        "id": "4HOgplglqvQq"
      }
    },
    {
      "cell_type": "markdown",
      "source": [
        "### ***CSS Basic:***"
      ],
      "metadata": {
        "id": "lWQwyPlzlx8d"
      }
    },
    {
      "cell_type": "markdown",
      "source": [
        "Let's see how we can use CSS to improve the page:\n",
        "\n",
        "1. Look at the head element. Currently we have a single element inside the head element, title. Now after the title we are going to add another element called style and hit enter.\n",
        "2. It will create the code: <style></style> and inside the style element we will write css codes.\n",
        "3. So in between style tag we will write some css rules.\n",
        "    - First, we will resize the inage currently it is too big. So write, img to reference our image element. then a pair of curly braces {}, and inside the curly braces we will write one or more css declarations, each declaration contains a property and value like, width: 100px;\n",
        "    ```\n",
        "    <!DOCTYPE html>\n",
        "    <html>\n",
        "      <head>\n",
        "        <title>My first webpage</title>\n",
        "        <style>\n",
        "          img {\n",
        "            width: 100px;\n",
        "          }\n",
        "        </style>\n",
        "      </head>\n",
        "      <body>\n",
        "        <img src=\"images/nameera.jpeg\" >\n",
        "        <p>@khalid</p>\n",
        "        <p>Evening sun in West</p>\n",
        "      </body>\n",
        "    </html>\n",
        "    ```\n",
        "    - Save the changes and see the image gets smaller.\n",
        "    - Now I want to make the edges bit round. So write another property called border-radius: and set this to 10px. And save the change, see the image edges are bit round.\n",
        "    ```\n",
        "        <style>\n",
        "          img {\n",
        "            width: 100px;\n",
        "            border-radius: 10px;\n",
        "          }\n",
        "        </style>\n",
        "    ```\n",
        "    - If you want to make full round then set the border-radius value to halfp of width, so in this case set this to 50px.\n",
        "    - Now let's say we want to align the image to left side. So add another property called, float: and set this to left.\n",
        "    ```\n",
        "        <style>\n",
        "          img {\n",
        "            width: 100px;\n",
        "            border-radius: 10px;\n",
        "            float: left;\n",
        "          }\n",
        "        </style>\n",
        "    ```\n",
        "    - At this point, if you look at the web page you may notice the image displays on left but there is no space gap between the image and the text. Let's make a space gap between them by adding another property, mergin-right: and set this to 10px.\n",
        "    ```\n",
        "        <style>\n",
        "          img {\n",
        "            width: 100px;\n",
        "            border-radius: 50px;\n",
        "            float: left;\n",
        "            margin-right: 10px;\n",
        "          }\n",
        "        </style>\n",
        "    ```\n",
        "    - Now make the user name bold. To do so we need to add another rule to our paragraph element inside the style. Type p and a pair of curly braces and inbetween the braces we set the font-weight: property to bold\n",
        "    - Save the changes and take a look at the page, all the text are become bold. But we wanted to bold the user name only. To do so, we need to assign class attribute to the property of the paragraph which i want to make bold like below:\n",
        "    ```\n",
        "        <!DOCTYPE html>\n",
        "        <html>\n",
        "          <head>\n",
        "            <title>My first webpage</title>\n",
        "            <style>\n",
        "              img {\n",
        "                width: 100px;\n",
        "                border-radius: 50px;\n",
        "                float: left;\n",
        "                margin-right: 10px;\n",
        "              }\n",
        "\n",
        "              p {\n",
        "                font-weight: bold;\n",
        "              }\n",
        "            </style>\n",
        "          </head>\n",
        "          <body>\n",
        "            <img src=\"images/nameera.jpeg\" >\n",
        "            <p class=\"username\">@khalid</p>\n",
        "            <p>Evening sun in West</p>\n",
        "          </body>\n",
        "        </html>\n",
        "    ```\n",
        "    - Then we need to rewrite the rule once again like assign the username class and period infonrt to the rule instead p property. with this change all the elements with username class are found those text will be bold.\n",
        "    ```\n",
        "        <!DOCTYPE html>\n",
        "        <html>\n",
        "          <head>\n",
        "            <title>My first webpage</title>\n",
        "            <style>\n",
        "              img {\n",
        "                width: 100px;\n",
        "                border-radius: 50px;\n",
        "                float: left;\n",
        "                margin-right: 10px;\n",
        "              }\n",
        "\n",
        "              .username {\n",
        "                font-weight: bold;\n",
        "              }\n",
        "            </style>\n",
        "          </head>\n",
        "          <body>\n",
        "            <img src=\"images/nameera.jpeg\" >\n",
        "            <p class=\"username\">@khalid</p>\n",
        "            <p>Evening sun in West</p>\n",
        "          </body>\n",
        "        </html>\n",
        "    ```\n"
      ],
      "metadata": {
        "id": "TGDGHT8Ol-0S"
      }
    },
    {
      "cell_type": "markdown",
      "source": [
        "### ***Formatting Code:***"
      ],
      "metadata": {
        "id": "kyUfFXQ7cFsn"
      }
    },
    {
      "cell_type": "markdown",
      "source": [
        "We need to know that browser ignore white/empty space in the html and css codes. Like if we write like this;\n",
        "```\n",
        "    <!DOCTYPE html><html><head><title>My first webpage</title><style>img {\n",
        "            width: 100px;\n",
        "            border-radius: 50px;\n",
        "            float: left;\n",
        "            margin-right: 10px;\n",
        "          }\n",
        "\n",
        "          .username {\n",
        "            font-weight: bold;\n",
        "          }\n",
        "        </style>\n",
        "      </head>\n",
        "      <body>\n",
        "        <img src=\"images/nameera.jpeg\" >\n",
        "        <p class=\"username\">@khalid</p>\n",
        "        <p>Evening sun in West</p>\n",
        "      </body>\n",
        "    </html>\n",
        "```\n",
        "it will still works and display same in the webpage. So we can format the html and css codes with prettier plugin to format our code in a consistent fashion.\n",
        "\n",
        "1. Let's see how to use prettier:\n",
        "  - In vscode, on the top navigate to View menu, go for the command palate(shortcut key shift+command+p on mac) it open the command palate in vscode.\n",
        "  - Search for format document and select. Then we need allow configure to confirm vscode to use prettier formater. And the prettier is set.\n",
        "2. Configure vscode to automatically format the code the moment we save the change.\n",
        "  - On the top navigate to Code menu\n",
        "  - Then go to references then settings\n",
        "  - Then search for format on save\n",
        "  - Then select/enable Format on save option for editor\n",
        "  - Done! So whenever we save the change vscode automatically format the code using the prettier.\n",
        "\n"
      ],
      "metadata": {
        "id": "h_HTGGUWff1F"
      }
    },
    {
      "cell_type": "markdown",
      "source": [
        "### ***Inspect Pages Using Devtools:***"
      ],
      "metadata": {
        "id": "Zpwh578BnWqJ"
      }
    },
    {
      "cell_type": "markdown",
      "source": [
        "1. Document Object Model(DOM): When the browser reads the HTML docuemnt from the server, it constructs a dcument object model.\n",
        "![picture](https://drive.google.com/uc?id=19VzlwZ656pkToj-dDx8zgLEQOurTuGpj)\n",
        "\n",
        "2. DOM in Action:\n",
        " - Go to the webpage and open dev tool(shortcut key: option+command+i)\n",
        " - Reload the page(shortcut key: command+r)\n",
        " - Then go to Elements tab and the thing we are seeing under the tab is DOM\n",
        " - We can see the exactly same html document we have created.\n",
        " - And an additional thing '<!-- Code injected by live-server -->' this is for automatically reloads the page used by the live server.\n",
        " ![picture](https://drive.google.com/uc?id=1cSPVR_QnlKLaxZclOFQdw6oqyuavxgq2)\n",
        "\n",
        "3. Elements:\n",
        " - Now hover on any of the elements and click on it and on right side of devtools we can see the style we used.\n",
        " - We can disable/enable the style in the devtoolsby selecting the checkbox\n",
        " - Also we can cnage the value here and can play around it to get the best look.\n",
        " ![picture](https://drive.google.com/uc?id=1x9Zy6Q94FEYxFtmxdbFlcIgYXNfZ6d9F)\n",
        " - Aslo we can see where the changes may need in the code. Hover on the host link on right as below screenshot. you can see the file and code line. then click on it it will take you to the Source tab where you can see your code where to make change.\n",
        "\n",
        "    ![picture](https://drive.google.com/uc?id=1ROcp5IwZJyqaQiObuVV1njkJ_pjKTbBJ)\n",
        "\n",
        " This is the basic of inspecting elements using the devtools.\n",
        "\n"
      ],
      "metadata": {
        "id": "3fjdXCvJQhbf"
      }
    },
    {
      "cell_type": "markdown",
      "source": [
        "### ***Validating Web Pages:***"
      ],
      "metadata": {
        "id": "jESg7Gm1cxzd"
      }
    },
    {
      "cell_type": "markdown",
      "source": [
        "1. Validating web page: The concept is while we work there might be mistake/human error/typo adn so on, as a result our website may not look as expected. In this situation, we can use html validator and css validator to find the potential errors in our code.\n",
        "\n",
        "2. HTML Validator: Let's run our code in a standard html validator. So we visit to https://validator.w3.org this is a standard markup validation service.\n",
        "\n",
        "3. Here we have 3 methods to validate html markup:\n",
        "  * Validate by we address(if the site is live)\n",
        "  * Validate by file upload\n",
        "  * Validate by direct input\n",
        "\n",
        "4. Report: We directly input the code and check. This point we got; one warning, one error, and one info.\n",
        "\n",
        "5. Fixing codes:\n",
        "  * Warning: The warning says, we did not add the language attribute to the html. This the best practice to add lang attribute to tell search engines what is the language of the webpage. So that it can display a better results. This is very easy to fix. Add lang attribute and set this to \"en\" inside the <html> tag.\n",
        "  ```\n",
        "    <!DOCTYPE html>\n",
        "    <html lang=\"en\">\n",
        "  ```\n",
        "  * Error: The error says the img element mush have an alt attribute. alt attribute contains the description of image and incase the image does not display then the altranative text will be displayed. Let's add the alt attribute and set an \"image_description\" inside img tag.\n",
        "  ```\n",
        "    <body>\n",
        "      <img src=\"images/nameera.jpeg\" alt=\"Evening girl\"/>\n",
        "      <p class=\"username\">@khalid</p>\n",
        "      <p>Evening sun in West</p>\n",
        "    </body>\n",
        "  ```\n",
        "  * Info: This says the img tag should not have trailing slash. It is because the image element does not have child element so trailing slash does not required. To fix this just remove '/' from the closing tag.\n",
        "  ```\n",
        "    <img src=\"images/nameera.jpeg\" alt=\"Evening girl\">\n",
        "  ```\n",
        "\n",
        "6. Now save the changes and check the the codes in the validator once more time and see the error resolved or not.\n",
        "\n",
        "7. CSS Validator: Let's go to https://jigsaw.w3.org/css-validator/, a standard css validator service. This is the same interface as html validator. So we can validate css by address, upload file or can direct input.\n",
        "\n",
        "8. Separate css file: For this page we embeded all our css code inside the html markup. But when the things are complex we separated the css files so that codes becode more cleaner. For now copy the css codes and check in the validator.\n",
        "\n",
        "\n"
      ],
      "metadata": {
        "id": "HnkkUXiehC3-"
      }
    }
  ]
}